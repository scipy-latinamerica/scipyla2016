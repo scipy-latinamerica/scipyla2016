{
 "cells": [
  {
   "cell_type": "code",
   "execution_count": 1,
   "metadata": {
    "collapsed": true
   },
   "outputs": [],
   "source": [
    "from IPython.display import HTML, display\n",
    "from random import choice"
   ]
  },
  {
   "cell_type": "code",
   "execution_count": 2,
   "metadata": {
    "collapsed": false
   },
   "outputs": [],
   "source": [
    "with open('./data.csv') as f:\n",
    "    data = [v.replace('\\n', '') for v in f.readlines()]"
   ]
  },
  {
   "cell_type": "code",
   "execution_count": 3,
   "metadata": {
    "collapsed": false
   },
   "outputs": [
    {
     "name": "stdout",
     "output_type": "stream",
     "text": [
      "Total de participantes: 11\n"
     ]
    }
   ],
   "source": [
    "print('Total de participantes:', len(data))"
   ]
  },
  {
   "cell_type": "code",
   "execution_count": 4,
   "metadata": {
    "collapsed": false
   },
   "outputs": [
    {
     "data": {
      "text/html": [
       "<h1>GANHADORES DO SORTEIO PYCHARM</h1>"
      ],
      "text/plain": [
       "<IPython.core.display.HTML object>"
      ]
     },
     "metadata": {},
     "output_type": "display_data"
    },
    {
     "name": "stdout",
     "output_type": "stream",
     "text": [
      "1 Leandro Quibem\n",
      "2 Emilio cs\n",
      "3 Marcelo Barboza\n",
      "4 João Felipe\n",
      "5 Ian Misael Reis\n",
      "6 Felipe Silveira\n",
      "7 Francisco Palm\n",
      "8 Paulo Giovani\n",
      "9 Bruno Marques\n",
      "10 Rodrigo Maia\n"
     ]
    }
   ],
   "source": [
    "display(HTML('<h1>GANHADORES DO SORTEIO PYCHARM</h1>'))\n",
    "ganhadores = []\n",
    "\n",
    "for i in range(1, 11):\n",
    "    result = choice(data)\n",
    "    \n",
    "    while result in ganhadores:\n",
    "        result = choice(data)\n",
    "    \n",
    "    ganhadores.append(result)\n",
    "    print(i, result)"
   ]
  }
 ],
 "metadata": {
  "kernelspec": {
   "display_name": "Python 3",
   "language": "python",
   "name": "python3"
  },
  "language_info": {
   "codemirror_mode": {
    "name": "ipython",
    "version": 3
   },
   "file_extension": ".py",
   "mimetype": "text/x-python",
   "name": "python",
   "nbconvert_exporter": "python",
   "pygments_lexer": "ipython3",
   "version": "3.5.1"
  }
 },
 "nbformat": 4,
 "nbformat_minor": 0
}
