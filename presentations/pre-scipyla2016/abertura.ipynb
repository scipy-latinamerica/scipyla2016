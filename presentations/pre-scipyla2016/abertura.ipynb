{
 "cells": [
  {
   "cell_type": "markdown",
   "metadata": {},
   "source": [
    "# SciPyLA 2016\n",
    "\n",
    "<img src=\"./img/scipy.png\" width=\"200px\"/>\n",
    "\n",
    "|Institucional|Apoio | Patrocínio Prata| Patrocínio Bronze |\n",
    "|:-:|:-:|:-:|:-:|\n",
    "|<img src=\"./img/ufsc.svg\" width=\"200px\"/>|<img src=\"./img/pythonbrasil_logo.png\" width=\"200px\"/>|<img src=\"./img/psf.png\" width=\"200px\"/>|<img src=\"./img/github.png\" width=\"200px\"/>|\n",
    "||<img src=\"./img/ciasc.png\" />||<img src=\"./img/gitlab.png\" width=\"200px\"/>|\n",
    "||||<img src=\"./img/microsoft.png\" width=\"200px\"/>|\n"
   ]
  },
  {
   "cell_type": "markdown",
   "metadata": {},
   "source": [
    "## Programação\n",
    "\n",
    "* 9h-10h - SciTools Install Fest: Python - Anaconda, LaTeX, Git (Equipe SciPy LA 2016);\n",
    "* 10h10-12h10 - Introdução ao Python (Mário Sergio);\n",
    "* 12h10-13h40 - Almoço\n",
    "* 13h40-14h40 - LaTeX - Automatizando a criação de PDFs com LaTeX+Python (Melissa Mendonça);\n",
    "* 14h50-15h50 - Git/GitHub (Matheus Braun);\n",
    "* 16h00-17h00 - Open Science / Ciência Aberta (Ivan Ogassavara)"
   ]
  }
 ],
 "metadata": {
  "kernelspec": {
   "display_name": "Python 3",
   "language": "python",
   "name": "python3"
  },
  "language_info": {
   "codemirror_mode": {
    "name": "ipython",
    "version": 3
   },
   "file_extension": ".py",
   "mimetype": "text/x-python",
   "name": "python",
   "nbconvert_exporter": "python",
   "pygments_lexer": "ipython3",
   "version": "3.5.1"
  }
 },
 "nbformat": 4,
 "nbformat_minor": 0
}
