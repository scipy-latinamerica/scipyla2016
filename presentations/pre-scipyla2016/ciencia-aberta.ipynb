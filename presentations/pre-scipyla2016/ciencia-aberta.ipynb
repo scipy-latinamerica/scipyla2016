{
 "cells": [
  {
   "cell_type": "markdown",
   "metadata": {},
   "source": [
    "# Ciência Aberta\n",
    "\n",
    "* licenciado sob licença Creative Commons Attribution 4.0 International (CC BY 4.0):  https://creativecommons.org/licenses/by/4.0/"
   ]
  },
  {
   "cell_type": "markdown",
   "metadata": {},
   "source": [
    "## Conteúdo\n",
    "\n",
    "* O que é ciência aberta (Open Science)?\n",
    "* O que é acesso aberto (Open Access)?\n",
    "* O que é código aberto (Open Source)?\n",
    "* O que é dados abertos (Open Data)?\n",
    "* O que é reprodutibilidade?\n",
    "* Discussões"
   ]
  },
  {
   "cell_type": "markdown",
   "metadata": {},
   "source": [
    "## O que é ciência aberta?\n",
    "\n",
    "O acesso às literaturas científicas (**Open Access**), compartilhamento de dados (**Open Data**) e o compartilhamento de algoritmos/código (**Open Source**), são o núcleo do conceito da ciência aberta,ou pesquisa aberta, (MCKIERNAN et al., 2015). "
   ]
  },
  {
   "cell_type": "markdown",
   "metadata": {},
   "source": [
    "## O que é acesso aberto?"
   ]
  },
  {
   "cell_type": "markdown",
   "metadata": {},
   "source": [
    "Uma das principais ideas do acesso aberto é proporcionar uma comunicação científica que maximize o acesso e reutilização da pesquisa, consequentemente reduzindo os custos da investigação (ASSANTE et al., 2015).\n",
    "\n",
    "Lista de open access journals: https://en.wikipedia.org/wiki/List_of_open_access_journals"
   ]
  },
  {
   "cell_type": "markdown",
   "metadata": {},
   "source": [
    "## O que é código aberto?"
   ]
  },
  {
   "cell_type": "markdown",
   "metadata": {},
   "source": [
    "> Quando dizemos que um software é “livre”, queremos dizer que ele respeita as liberdades essenciais dos usuários: a liberdade de rodá-lo, de estudá-lo e mudá-lo, e redistribuir cópias com ou sem mudanças. Isso é uma questão de liberdade, não de preço - pense em “liberdade de expressão”, não em “cerveja grátis”.\n",
    "> \n",
    "> Essas liberdades são vitalmente importantes. Elas são essenciais não apenas para os propósitos individuais dos usuários, mas para a sociedade como um todo, pois elas promovem solidariedade social — isto é, compartilhamento e cooperação. Elas se tornam ainda mais importantes à medida que nossa cultura e atividades cotidianas se tornam mais digitalizadas. Num mundo de sons, imagens e palavras digitais, o software livre se torna essencial para a liberdade em geral.\n",
    "> \n",
    "> (Richard Stallman, fonte: http://www.gnu.org/philosophy/open-source-misses-the-point.pt-br.html)"
   ]
  },
  {
   "cell_type": "markdown",
   "metadata": {},
   "source": [
    "## O que é dados abertos?"
   ]
  },
  {
   "cell_type": "markdown",
   "metadata": {},
   "source": [
    "Muitas pesquisas são realizadas baseadas em dados, seja ele coletado manualmente ou por meio de dispositivos. O desenvolvimento dessas pesquisas estão vinculados a esses dados, porém muitas vezes esses dados são guardados na gaveta do pesquisador ou, quando publicados, são publicados em um formato difícil para ser reaproveitado. Acontece também de não haver a identificação da licença de uso dos dados apresentados.\n",
    "\n",
    "O conceito de dados abertos diz respeito a publicação dos dados como um produto científico, que pode ser publicado antes de ser publicado o artigo final. A publicação dos dados promove maior transparência à pesquisa. Além disso, o autor pode ganhar citação por meio dos dados produzidos.\n",
    "\n",
    "Lista de repositórios para dados abertos: http://www.nature.com/sdata/data-policies/repositories;\n",
    "\n",
    "Alguns repositórios:\n",
    "* Harvard Dataverse (https://dataverse.harvard.edu/dataverse/harvard);\n",
    "* Dryad (http://datadryad.org/);\n",
    "* Figshare (https://figshare.com/)."
   ]
  },
  {
   "cell_type": "markdown",
   "metadata": {},
   "source": [
    "## O que é reprodutibilidade?"
   ]
  },
  {
   "cell_type": "markdown",
   "metadata": {},
   "source": [
    "Por meio de dados, algoritmos e artigos com acesso aberto, possibilita-se uma melhor reprodutibilidade das pesquisas científicas. Se, mesmo com acesso a todos esses produtos científicos não for possível reproduzir a pesquisa em questão, pode-se indicar que no artigo houve algum tipo de manipulação nos resultados obtidos."
   ]
  },
  {
   "cell_type": "markdown",
   "metadata": {},
   "source": [
    "## Discussões"
   ]
  },
  {
   "cell_type": "markdown",
   "metadata": {},
   "source": [
    "No conceito de ciência aberta, todos os produtos produzido durante a pesquisa (como dados, código, imagem, etc) deve ser publicados e, consequentemente, esses materiais podem ser reutilizados e citados por outros autores (de acordo com a licença utilizada pelo autor)."
   ]
  },
  {
   "cell_type": "markdown",
   "metadata": {},
   "source": [
    "Nas literaturas são apresentados uma variedade de benefícios sobre o uso de práticas de ciência aberta\n",
    "(MCKIERNAN et al., 2015; DORCH, 2015):\n",
    "\n",
    "* aumento da visibilidade da pesquisa e de citações;\n",
    "* aumenta a probabilidade de trabalhos colaborativos;\n",
    "* revisões de maior qualidade;\n",
    "* conduzem as pesquisas a serem mais transparentes;\n",
    "* a publicação de artigos podem custar menos;\n",
    "* mais frequentemente, financiadores estão não somente sugerindo mas sim requerindo pesquisas abertas;\n",
    "* controle do reuso do artigo por meio do uso da licença apropriada (por exemplo: Creative Common), etc."
   ]
  },
  {
   "cell_type": "markdown",
   "metadata": {},
   "source": [
    "Em um grupo de estudos de um determinado objeto, a criação e uso de padrões para armazenamento de dados e desenvolvimento de algoritmos podem ajudar ainda mais o compartilhamento e reutilização dos produtos científicos."
   ]
  },
  {
   "cell_type": "markdown",
   "metadata": {},
   "source": [
    "## Referências\n",
    "\n",
    "ASSANTE, M. et al. Science 2.0 repositories: Time for a change in scholarly communication. D-Lib Magazine, Corporation for National Research Initiatives, v. 21, n. 1, p. 4, 2015.\n",
    "\n",
    "AYER, V. M.; MIGUEZ, S.; TOBY, B. H. Why scientists should learn to program in python. Powder Diffraction, Cambridge Univ Press, v. 29, n. S2, p. S48–S64, 2014.\n",
    "\n",
    "DORCH, B. F. Open, transparent and honest–the way we practice research. Nordic Perspectives on OpenScience, v. 1, 2015.\n",
    "\n",
    "LEITE, F. C. L.; COSTA, S. M. d. S. Scientific knowledge management: proposal for a conceptual model based on processes of scientific communication. Ciência da Informação, SciELO Brasil, v. 36, n. 1, p. 92–107, 2007.\n",
    "\n",
    "MARGONI, T. et al. Open access, open science, open society. Trento Law and Technology Research Group, Research Paper, n. 27, 2016.\n",
    "\n",
    "MCKIERNAN, E. et al. The open research value proposition: How sharing can help researchers succeed. Open Science Framework, 2015. Disponível em: <osf.io/sqr3m>.\n",
    "\n",
    "OPEN SCIENCE COLLABORATION et al. Estimating the reproducibility of psychological science. Science, American Association for the Advancement of Science, v. 349, n. 6251, p. aac4716, 2015.\n",
    "\n",
    "TOBY, B. H. et al. Practices and standards for data and processing at the aps. Synchrotron Radiation News,\n",
    "Taylor & Francis, v. 28, n. 2, p. 15–21, 2015.\n"
   ]
  },
  {
   "cell_type": "markdown",
   "metadata": {},
   "source": [
    "## Obrigado!\n",
    "\n",
    "ivan.ogasawara@gmail.com\n",
    "\n",
    "github.com/xmnlab\n"
   ]
  }
 ],
 "metadata": {
  "kernelspec": {
   "display_name": "Python 3",
   "language": "python",
   "name": "python3"
  },
  "language_info": {
   "codemirror_mode": {
    "name": "ipython",
    "version": 3
   },
   "file_extension": ".py",
   "mimetype": "text/x-python",
   "name": "python",
   "nbconvert_exporter": "python",
   "pygments_lexer": "ipython3",
   "version": "3.5.1"
  }
 },
 "nbformat": 4,
 "nbformat_minor": 0
}
